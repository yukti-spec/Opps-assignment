{
  "nbformat": 4,
  "nbformat_minor": 0,
  "metadata": {
    "colab": {
      "provenance": []
    },
    "kernelspec": {
      "name": "python3",
      "display_name": "Python 3"
    },
    "language_info": {
      "name": "python"
    }
  },
  "cells": [
    {
      "cell_type": "markdown",
      "source": [
        " Question 1.  What are the five key concepts of Object-Oriented Programming (OOP)?\n",
        "\n",
        " Ans:   Object-Oriented Programming (OOP) is a programming paradigm based on the concept of \"objects\" that encapsulate data and behavior. The five key concepts of OOP are:\n",
        "\n",
        " 1.  Encapsulation\n",
        "\n",
        "Encapsulation is the bundling of data (attributes) and methods (functions) that operate on the data into a single unit, called a class.\n",
        "\n",
        "It restricts direct access to some of the object's components, which is often implemented using access specifiers like private, protected, and public.\n",
        "\n",
        "Example: A class Car can encapsulate attributes like speed and color and methods like start() and stop().\n",
        "\n",
        "2.  Abstraction\n",
        "\n",
        "Abstraction involves hiding the complex implementation details of an object and exposing only the necessary and relevant parts.\n",
        "\n",
        "It enables developers to focus on high-level functionality rather than the intricacies of implementation.\n",
        "\n",
        "Example: A user interacts with a Car using methods like drive() without knowing the internal workings of the engine.\n",
        "\n",
        "3.  Inheritance\n",
        "\n",
        "Inheritance allows a class (child or derived class) to inherit properties and behaviors (attributes and methods) from another class (parent or base class).\n",
        "\n",
        "It promotes code reuse and hierarchical relationships.\n",
        "\n",
        "Example: A SportsCar class can inherit from a Car class, gaining all its methods and attributes while adding specific features.\n",
        "\n",
        "4.  Polymorphism\n",
        "\n",
        "Polymorphism means \"many forms\" and allows objects to be treated as instances of their parent class while enabling method overriding or overloading.\n",
        "\n",
        "It helps in designing interfaces where one action can be performed in multiple ways.\n",
        "\n",
        "Example: A method drive() could be implemented differently in a Car and a Bike class.\n",
        "\n",
        "5.  Object and Class\n",
        "\n",
        "A class is a blueprint or template for creating objects. It defines the structure and behavior of objects but doesn't allocate memory until an object is created.\n",
        "\n",
        "An object is an instance of a class. It represents a specific realization of the class's blueprint.\n",
        "\n",
        "Example: The class Car is a template, while myCar is an object created from that class with specific attributes like color = red and speed = 100."
      ],
      "metadata": {
        "id": "CsLj4N2A3QED"
      }
    },
    {
      "cell_type": "markdown",
      "source": [
        "Question 2.   Write a Python class for a `Car` with attributes for `make`, `model`, and `year`. Include a method to display\n",
        "the car's information.\n",
        "\n",
        "Ans:"
      ],
      "metadata": {
        "id": "9-p1Yj215J2d"
      }
    },
    {
      "cell_type": "code",
      "source": [
        "class Car:\n",
        "    def __init__(self, make, model, year):\n",
        "        self.make = make\n",
        "        self.model = model\n",
        "        self.year = year\n",
        "\n",
        "    def display_info(self):\n",
        "        return f\"Car Information: {self.year} {self.make} {self.model}\"\n",
        "\n",
        "my_car = Car(\"Toyota\", \"Corolla\", 2021)\n",
        "print(my_car.display_info())\n"
      ],
      "metadata": {
        "colab": {
          "base_uri": "https://localhost:8080/"
        },
        "id": "XUc4C4XL5sGJ",
        "outputId": "e3c0c332-60e9-4e45-966d-32324d767bfa"
      },
      "execution_count": null,
      "outputs": [
        {
          "output_type": "stream",
          "name": "stdout",
          "text": [
            "Car Information: 2021 Toyota Corolla\n"
          ]
        }
      ]
    },
    {
      "cell_type": "markdown",
      "source": [
        "Question 3.   Explain the difference between instance methods and class methods. Provide an example of each.\n",
        "\n",
        "Ans:   In Python, instance methods and class methods are two types of methods that serve different purposes in a class. Here’s a breakdown of their differences:\n",
        "\n",
        "1.  Instance Methods\n",
        "\n",
        "Definition: Methods that work on an instance of the class and can access and modify the instance’s attributes.\n",
        "\n",
        "Decorator: No specific decorator is required; the method has self as the first parameter.\n",
        "\n",
        "Usage: Used when the method needs to operate on instance-specific data.\n",
        "\n"
      ],
      "metadata": {
        "id": "G2Xpa3cw6G2p"
      }
    },
    {
      "cell_type": "code",
      "source": [
        "class Car:\n",
        "    def __init__(self, make, model, year):\n",
        "        self.make = make\n",
        "        self.model = model\n",
        "        self.year = year\n",
        "\n",
        "    def display_info(self):\n",
        "        return f\"{self.year} {self.make} {self.model}\"\n",
        "\n",
        "car = Car(\"Toyota\", \"Corolla\", 2021)\n",
        "print(car.display_info())  # Accessing instance method\n"
      ],
      "metadata": {
        "colab": {
          "base_uri": "https://localhost:8080/"
        },
        "id": "jVhtloCc7Roo",
        "outputId": "39e16e82-d962-4f3f-a1c1-7e1abb5a262d"
      },
      "execution_count": null,
      "outputs": [
        {
          "output_type": "stream",
          "name": "stdout",
          "text": [
            "2021 Toyota Corolla\n"
          ]
        }
      ]
    },
    {
      "cell_type": "markdown",
      "source": [
        "2.  Class Methods\n",
        "\n",
        "Definition: Methods that work on the class itself rather than an instance. They cannot access or modify instance-specific data directly but can operate on class-level data.\n",
        "\n",
        "Decorator: Defined using the @classmethod decorator, and the first parameter is cls, referring to the class.\n",
        "\n",
        "Usage: Used when a method needs to act on the class rather than any specific instance, such as creating alternative constructors or manipulating class-level attributes."
      ],
      "metadata": {
        "id": "Q8juACAR7cwg"
      }
    },
    {
      "cell_type": "code",
      "source": [
        "class Car:\n",
        "    manufacturer_country = \"Japan\"\n",
        "\n",
        "    def __init__(self, make, model, year):\n",
        "        self.make = make\n",
        "        self.model = model\n",
        "        self.year = year\n",
        "\n",
        "    @classmethod\n",
        "    def set_manufacturer_country(cls, country):\n",
        "        cls.manufacturer_country = country\n",
        "\n",
        "    @classmethod\n",
        "    def from_string(cls, car_string):\n",
        "        make, model, year = car_string.split(\", \")\n",
        "        return cls(make, model, int(year))\n",
        "\n",
        "Car.set_manufacturer_country(\"USA\")\n",
        "print(Car.manufacturer_country)\n",
        "\n"
      ],
      "metadata": {
        "colab": {
          "base_uri": "https://localhost:8080/"
        },
        "id": "1iFAYDDm8d8t",
        "outputId": "16eb084d-6ada-4109-a1b3-07f9f7bdf809"
      },
      "execution_count": null,
      "outputs": [
        {
          "output_type": "stream",
          "name": "stdout",
          "text": [
            "USA\n"
          ]
        }
      ]
    },
    {
      "cell_type": "markdown",
      "source": [
        "Question 4.  How does Python implement method overloading? Give an example.\n",
        "\n",
        "Ans:   Python does not natively support method overloading like other languages (e.g., Java or C++), where multiple methods can have the same name but different parameter lists. Instead, Python allows default arguments and other techniques to mimic method overloading.\n",
        "\n",
        "If you define multiple methods with the same name, the last definition will override the previous ones. However, you can implement behavior similar to overloading by checking the arguments inside a method.\n",
        "\n",
        "Example of Overloading in Python:-\n",
        "\n"
      ],
      "metadata": {
        "id": "Jf2GUhh8-Cia"
      }
    },
    {
      "cell_type": "code",
      "source": [
        "class Calculator:\n",
        "    def add(self, *args):\n",
        "        if len(args) == 2:\n",
        "            return args[0] + args[1]\n",
        "        elif len(args) == 3:\n",
        "            return args[0] + args[1] + args[2]\n",
        "        else:\n",
        "            return \"Unsupported number of arguments\"\n",
        "\n",
        "calc = Calculator()\n",
        "print(calc.add(5, 10))\n",
        "print(calc.add(5, 10, 15))\n",
        "print(calc.add(5))\n"
      ],
      "metadata": {
        "colab": {
          "base_uri": "https://localhost:8080/"
        },
        "id": "jEBb6Ipx-3g_",
        "outputId": "27e025af-8656-41e4-c79f-42410ab902e6"
      },
      "execution_count": null,
      "outputs": [
        {
          "output_type": "stream",
          "name": "stdout",
          "text": [
            "15\n",
            "30\n",
            "Unsupported number of arguments\n"
          ]
        }
      ]
    },
    {
      "cell_type": "markdown",
      "source": [
        "Question 5.  What are the three types of access modifiers in Python? How are they denoted?\n",
        "\n",
        "Ans:   In Python, access modifiers are used to control the visibility of class members (attributes and methods). Python has three types of access modifiers: public, protected, and private. Unlike some languages, Python doesn’t enforce strict access controls but provides naming conventions to indicate the intended level of access.\n",
        "\n",
        "1. Public\n",
        "\n",
        "Definition: Members that are accessible from anywhere, both inside and outside the class.\n",
        "\n",
        "Denotation: No leading underscores in the member name.\n",
        "\n",
        "Example:\n"
      ],
      "metadata": {
        "id": "7OymLZBSAmxY"
      }
    },
    {
      "cell_type": "code",
      "source": [
        "class Example:\n",
        "    def __init__(self):\n",
        "        self.public_attribute = \"I am public\"\n",
        "\n",
        "    def public_method(self):\n",
        "        return \"This is a public method\"\n",
        "\n",
        "obj = Example()\n",
        "print(obj.public_attribute)\n",
        "print(obj.public_method())\n"
      ],
      "metadata": {
        "colab": {
          "base_uri": "https://localhost:8080/"
        },
        "id": "E3gHi_YGBjst",
        "outputId": "82e5da45-9706-46db-8581-aaeb9fe58ecb"
      },
      "execution_count": null,
      "outputs": [
        {
          "output_type": "stream",
          "name": "stdout",
          "text": [
            "I am public\n",
            "This is a public method\n"
          ]
        }
      ]
    },
    {
      "cell_type": "markdown",
      "source": [
        "2. Protected\n",
        "\n",
        "Definition: Members intended to be accessible only within the class and its subclasses. This is a convention, not a strict rule.\n",
        "\n",
        "Denotation: A single leading underscore (_) in the member name.\n",
        "\n",
        "Example:\n"
      ],
      "metadata": {
        "id": "kNEAgcbaB4UX"
      }
    },
    {
      "cell_type": "code",
      "source": [
        "class Example:\n",
        "    def __init__(self):\n",
        "        self._protected_attribute = \"I am protected\"\n",
        "\n",
        "    def _protected_method(self):\n",
        "        return \"This is a protected method\"\n",
        "\n",
        "class Subclass(Example):\n",
        "    def access_protected(self):\n",
        "        return self._protected_attribute\n",
        "\n",
        "obj = Subclass()\n",
        "print(obj.access_protected())\n",
        "print(obj._protected_attribute)\n"
      ],
      "metadata": {
        "id": "emA92WjoCKgE"
      },
      "execution_count": null,
      "outputs": []
    },
    {
      "cell_type": "markdown",
      "source": [
        "3. Private\n",
        "\n",
        "Definition: Members intended to be accessible only within the class itself. Python achieves this by name mangling.\n",
        "\n",
        "Denotation: A double leading underscore (__) in the member name.\n",
        "\n",
        "Example:"
      ],
      "metadata": {
        "id": "Niva3L9DCjns"
      }
    },
    {
      "cell_type": "code",
      "source": [
        "class Example:\n",
        "    def __init__(self):\n",
        "        self.__private_attribute = \"I am private\"\n",
        "\n",
        "    def __private_method(self):\n",
        "        return \"This is a private method\"\n",
        "\n",
        "    def access_private(self):\n",
        "        return self.__private_method()\n",
        "\n",
        "obj = Example()\n",
        "print(obj.access_private())\n"
      ],
      "metadata": {
        "colab": {
          "base_uri": "https://localhost:8080/"
        },
        "id": "MZrF7VepC3kC",
        "outputId": "f6baf906-19a2-4243-be8f-c8f1c9354244"
      },
      "execution_count": null,
      "outputs": [
        {
          "output_type": "stream",
          "name": "stdout",
          "text": [
            "This is a private method\n"
          ]
        }
      ]
    },
    {
      "cell_type": "markdown",
      "source": [
        "6.  Describe the five types of inheritance in Python. Provide a simple example of multiple inheritance.\n",
        "\n",
        "Ans:  Inheritance in Python is a way to reuse and extend the functionalities of an existing class. Python supports the following types of inheritance:\n",
        "\n",
        "1. Single Inheritance\n",
        "\n",
        "A child class inherits from one parent class.\n",
        "\n",
        "Example:\n"
      ],
      "metadata": {
        "id": "o46L3pIrDoAu"
      }
    },
    {
      "cell_type": "code",
      "source": [
        "class Parent:\n",
        "    def greet(self):\n",
        "        print(\"Hello from Parent\")\n",
        "\n",
        "class Child(Parent):\n",
        "    pass\n",
        "\n",
        "obj = Child()\n",
        "obj.greet()"
      ],
      "metadata": {
        "id": "_JSp2eNp3lje",
        "colab": {
          "base_uri": "https://localhost:8080/"
        },
        "outputId": "0814bc9d-61d6-476e-c756-8a06c14c996e"
      },
      "execution_count": 1,
      "outputs": [
        {
          "output_type": "stream",
          "name": "stdout",
          "text": [
            "Hello from Parent\n"
          ]
        }
      ]
    },
    {
      "cell_type": "markdown",
      "source": [
        "2.  Multiple Inheritance\n",
        "\n",
        "A child class inherits from multiple parent classes.\n",
        "\n",
        "Example:"
      ],
      "metadata": {
        "id": "G38B__5Cds-w"
      }
    },
    {
      "cell_type": "code",
      "source": [
        "class Parent1:\n",
        "    def method1(self):\n",
        "        print(\"Method from Parent1\")\n",
        "\n",
        "class Parent2:\n",
        "    def method2(self):\n",
        "        print(\"Method from Parent2\")\n",
        "\n",
        "class Child(Parent1, Parent2):\n",
        "    pass\n",
        "\n",
        "obj = Child()\n",
        "obj.method1()\n",
        "obj.method2()\n"
      ],
      "metadata": {
        "colab": {
          "base_uri": "https://localhost:8080/"
        },
        "id": "yYcZOVXGd355",
        "outputId": "668782ed-ad5a-4656-a0e6-9279df1dd6e7"
      },
      "execution_count": 2,
      "outputs": [
        {
          "output_type": "stream",
          "name": "stdout",
          "text": [
            "Method from Parent1\n",
            "Method from Parent2\n"
          ]
        }
      ]
    },
    {
      "cell_type": "markdown",
      "source": [
        "3.  Multilevel Inheritance\n",
        "\n",
        "A child class inherits from a parent class, and then another class inherits from this child class.\n",
        "\n",
        "Example:"
      ],
      "metadata": {
        "id": "Qc8jkO6UeFZO"
      }
    },
    {
      "cell_type": "code",
      "source": [
        "class Grandparent:\n",
        "    def greet(self):\n",
        "        print(\"Hello from Grandparent\")\n",
        "\n",
        "class Parent(Grandparent):\n",
        "    pass\n",
        "\n",
        "class Child(Parent):\n",
        "    pass\n",
        "\n",
        "obj = Child()\n",
        "obj.greet()"
      ],
      "metadata": {
        "colab": {
          "base_uri": "https://localhost:8080/"
        },
        "id": "G8SZ5ucveNwX",
        "outputId": "7e671582-979c-4fe0-c5c2-d8c2eeb5018a"
      },
      "execution_count": 3,
      "outputs": [
        {
          "output_type": "stream",
          "name": "stdout",
          "text": [
            "Hello from Grandparent\n"
          ]
        }
      ]
    },
    {
      "cell_type": "markdown",
      "source": [
        "4.  Hierarchical Inheritance\n",
        "\n",
        "Multiple child classes inherit from the same parent class.\n",
        "\n",
        "Example:"
      ],
      "metadata": {
        "id": "nyNtP021eZGs"
      }
    },
    {
      "cell_type": "code",
      "source": [
        "class Parent:\n",
        "    def greet(self):\n",
        "        print(\"Hello from Parent\")\n",
        "\n",
        "class Child1(Parent):\n",
        "    pass\n",
        "\n",
        "class Child2(Parent):\n",
        "    pass\n",
        "\n",
        "obj1 = Child1()\n",
        "obj2 = Child2()\n",
        "obj1.greet()\n",
        "obj2.greet()\n"
      ],
      "metadata": {
        "colab": {
          "base_uri": "https://localhost:8080/"
        },
        "id": "GxTKe2m0eicn",
        "outputId": "55245c42-1e19-4d6d-a1fe-0999d0396dd6"
      },
      "execution_count": 4,
      "outputs": [
        {
          "output_type": "stream",
          "name": "stdout",
          "text": [
            "Hello from Parent\n",
            "Hello from Parent\n"
          ]
        }
      ]
    },
    {
      "cell_type": "markdown",
      "source": [
        "5.  Hybrid Inheritance\n",
        "\n",
        "A combination of two or more types of inheritance.\n",
        "\n",
        "Example:"
      ],
      "metadata": {
        "id": "mfsMfxFMev_R"
      }
    },
    {
      "cell_type": "code",
      "source": [
        "class Parent:\n",
        "    def greet(self):\n",
        "        print(\"Hello from Parent\")\n",
        "\n",
        "class Child1(Parent):\n",
        "    def child1_method(self):\n",
        "        print(\"Method from Child1\")\n",
        "\n",
        "class Child2(Parent):\n",
        "    def child2_method(self):\n",
        "        print(\"Method from Child2\")\n",
        "\n",
        "class GrandChild(Child1, Child2):\n",
        "    pass\n",
        "\n",
        "obj = GrandChild()\n",
        "obj.greet()\n",
        "obj.child1_method()\n",
        "obj.child2_method()"
      ],
      "metadata": {
        "colab": {
          "base_uri": "https://localhost:8080/"
        },
        "id": "hNprDMMce3aL",
        "outputId": "ff5a42a0-4e4b-4fd2-b623-e9b9f07ea7f7"
      },
      "execution_count": 5,
      "outputs": [
        {
          "output_type": "stream",
          "name": "stdout",
          "text": [
            "Hello from Parent\n",
            "Method from Child1\n",
            "Method from Child2\n"
          ]
        }
      ]
    },
    {
      "cell_type": "markdown",
      "source": [
        "Example of Multiple Inheritance:"
      ],
      "metadata": {
        "id": "FM29ZO_HfQ38"
      }
    },
    {
      "cell_type": "code",
      "source": [
        "class Animal:\n",
        "    def sound(self):\n",
        "        print(\"Animal makes a sound\")\n",
        "\n",
        "class Bird:\n",
        "    def fly(self):\n",
        "        print(\"Bird can fly\")\n",
        "\n",
        "class Bat(Animal, Bird):\n",
        "    def info(self):\n",
        "        print(\"I am a Bat\")\n",
        "\n",
        "bat = Bat()\n",
        "bat.sound()\n",
        "bat.fly()\n",
        "bat.info()"
      ],
      "metadata": {
        "colab": {
          "base_uri": "https://localhost:8080/"
        },
        "id": "LzO3vAk-fUhp",
        "outputId": "4c5440f3-3b39-4673-e516-a2da18e5f81c"
      },
      "execution_count": 6,
      "outputs": [
        {
          "output_type": "stream",
          "name": "stdout",
          "text": [
            "Animal makes a sound\n",
            "Bird can fly\n",
            "I am a Bat\n"
          ]
        }
      ]
    },
    {
      "cell_type": "markdown",
      "source": [
        "Question 7.  What is the Method Resolution Order (MRO) in Python? How can you retrieve it programmatically?\n",
        "\n",
        "Ans:  Method Resolution Order (MRO) in Python\n",
        "\n",
        "The Method Resolution Order (MRO) determines the order in which Python looks for a method or attribute in a class hierarchy. It is particularly important in cases of multiple inheritance to avoid ambiguity and ensure a consistent lookup process.\n",
        "\n",
        "Python uses the C3 Linearization algorithm (or C3 superclass linearization) to compute the MRO. This algorithm ensures that:\n",
        "\n",
        "A class is checked before its parents.\n",
        "\n",
        "Parents are checked in the order specified during inheritance.\n",
        "\n",
        "No class is checked more than once.\n",
        "\n",
        "How to Retrieve the MRO Programmatically:-\n",
        "\n",
        "You can use the following methods to retrieve the MRO of a class:\n",
        "\n",
        "ClassName.__mro__\n",
        "\n",
        "Returns a tuple showing the MRO.\n",
        "\n",
        "ClassName.mro()\n",
        "\n",
        "Returns a list showing the MRO.\n",
        "\n",
        "inspect.getmro(ClassName) (from the inspect module)\n",
        "Returns a tuple similar to __mro__.\n",
        "\n",
        "Example\n",
        "\n"
      ],
      "metadata": {
        "id": "k1Bu3ovkfo4-"
      }
    },
    {
      "cell_type": "code",
      "source": [
        "class A:\n",
        "    def method(self):\n",
        "        print(\"Method in A\")\n",
        "\n",
        "class B(A):\n",
        "    def method(self):\n",
        "        print(\"Method in B\")\n",
        "\n",
        "class C(A):\n",
        "    def method(self):\n",
        "        print(\"Method in C\")\n",
        "\n",
        "class D(B, C):\n",
        "    pass\n",
        "\n",
        "\n",
        "print(D.__mro__)\n",
        "print(D.mro())\n",
        "\n",
        "\n",
        "import inspect\n",
        "print(inspect.getmro(D))\n"
      ],
      "metadata": {
        "colab": {
          "base_uri": "https://localhost:8080/"
        },
        "id": "355g98qMkElg",
        "outputId": "459d16c8-0b6b-444b-cdb1-0849fe92dc9b"
      },
      "execution_count": 7,
      "outputs": [
        {
          "output_type": "stream",
          "name": "stdout",
          "text": [
            "(<class '__main__.D'>, <class '__main__.B'>, <class '__main__.C'>, <class '__main__.A'>, <class 'object'>)\n",
            "[<class '__main__.D'>, <class '__main__.B'>, <class '__main__.C'>, <class '__main__.A'>, <class 'object'>]\n",
            "(<class '__main__.D'>, <class '__main__.B'>, <class '__main__.C'>, <class '__main__.A'>, <class 'object'>)\n"
          ]
        }
      ]
    },
    {
      "cell_type": "markdown",
      "source": [
        "Question 8.  Create an abstract base class `Shape` with an abstract method `area()`. Then create two subclasses\n",
        "`Circle` and `Rectangle` that implement the `area()` method.\n",
        "\n",
        "Ans:  Here is the implementation of an abstract base class Shape with subclasses Circle and Rectangle that implement the area() method:"
      ],
      "metadata": {
        "id": "RsMng1_ekfHl"
      }
    },
    {
      "cell_type": "code",
      "source": [
        "from abc import ABC, abstractmethod\n",
        "import math\n",
        "\n",
        "class Shape(ABC):\n",
        "    @abstractmethod\n",
        "    def area(self):\n",
        "        pass\n",
        "\n",
        "class Circle(Shape):\n",
        "    def __init__(self, radius):\n",
        "        self.radius = radius\n",
        "\n",
        "    def area(self):\n",
        "        return math.pi * (self.radius ** 2)\n",
        "\n",
        "class Rectangle(Shape):\n",
        "    def __init__(self, width, height):\n",
        "        self.width = width\n",
        "        self.height = height\n",
        "\n",
        "    def area(self):\n",
        "        return self.width * self.height\n",
        "\n",
        "circle = Circle(5)\n",
        "rectangle = Rectangle(4, 7)\n",
        "\n",
        "print(f\"Area of Circle: {circle.area()}\")\n",
        "print(f\"Area of Rectangle: {rectangle.area()}\")\n"
      ],
      "metadata": {
        "colab": {
          "base_uri": "https://localhost:8080/"
        },
        "id": "s__tNSIuk-WM",
        "outputId": "0a41bf78-cab4-4db0-b8fe-382d4426353b"
      },
      "execution_count": 8,
      "outputs": [
        {
          "output_type": "stream",
          "name": "stdout",
          "text": [
            "Area of Circle: 78.53981633974483\n",
            "Area of Rectangle: 28\n"
          ]
        }
      ]
    },
    {
      "cell_type": "markdown",
      "source": [
        "Question 9.   Demonstrate polymorphism by creating a function that can work with different shape objects to calculate\n",
        "and print their areas.\n",
        "\n",
        "Ans:  Here’s how to demonstrate polymorphism using a function that works with different shape objects (Circle, Rectangle, etc.) to calculate and print their areas:\n"
      ],
      "metadata": {
        "id": "3r9Uj01Slq5D"
      }
    },
    {
      "cell_type": "code",
      "source": [
        "from abc import ABC, abstractmethod\n",
        "import math\n",
        "\n",
        "class Shape(ABC):\n",
        "    @abstractmethod\n",
        "    def area(self):\n",
        "        pass\n",
        "\n",
        "class Circle(Shape):\n",
        "    def __init__(self, radius):\n",
        "        self.radius = radius\n",
        "\n",
        "    def area(self):\n",
        "        return math.pi * (self.radius ** 2)\n",
        "\n",
        "class Rectangle(Shape):\n",
        "    def __init__(self, width, height):\n",
        "        self.width = width\n",
        "        self.height = height\n",
        "\n",
        "    def area(self):\n",
        "        return self.width * self.height\n",
        "\n",
        "class Triangle(Shape):\n",
        "    def __init__(self, base, height):\n",
        "        self.base = base\n",
        "        self.height = height\n",
        "\n",
        "    def area(self):\n",
        "        return 0.5 * self.base * self.height\n",
        "\n",
        "def print_area(shape):\n",
        "    print(f\"The area of the {shape.__class__.__name__} is: {shape.area()}\")\n",
        "\n",
        "shapes = [\n",
        "    Circle(5),\n",
        "    Rectangle(4, 7),\n",
        "    Triangle(6, 3)\n",
        "\n",
        "]\n",
        "\n",
        "for shape in shapes:\n",
        "    print_area(shape)\n"
      ],
      "metadata": {
        "colab": {
          "base_uri": "https://localhost:8080/"
        },
        "id": "GhuGtoBzmDrL",
        "outputId": "83b6f4eb-aeb4-4bc3-d47e-a0833b4891c9"
      },
      "execution_count": 9,
      "outputs": [
        {
          "output_type": "stream",
          "name": "stdout",
          "text": [
            "The area of the Circle is: 78.53981633974483\n",
            "The area of the Rectangle is: 28\n",
            "The area of the Triangle is: 9.0\n"
          ]
        }
      ]
    },
    {
      "cell_type": "markdown",
      "source": [
        "Question 10.  . Implement encapsulation in a `BankAccount` class with private attributes for `balance` and\n",
        "`account_number`. Include methods for deposit, withdrawal, and balance inquiry.\n",
        "\n",
        "Ans:  "
      ],
      "metadata": {
        "id": "3PK73Jnom8gY"
      }
    },
    {
      "cell_type": "code",
      "source": [
        "class BankAccount:\n",
        "    def __init__(self, account_number, initial_balance=0):\n",
        "        self.__account_number = account_number\n",
        "        self.__balance = initial_balance\n",
        "\n",
        "    def deposit(self, amount):\n",
        "        if amount > 0:\n",
        "            self.__balance += amount\n",
        "            print(f\"Deposited: {amount}\")\n",
        "        else:\n",
        "            print(\"Deposit amount must be positive.\")\n",
        "\n",
        "    def withdraw(self, amount):\n",
        "        if amount > self.__balance:\n",
        "            print(\"Insufficient balance!\")\n",
        "        elif amount <= 0:\n",
        "            print(\"Withdrawal amount must be positive.\")\n",
        "        else:\n",
        "            self.__balance -= amount\n",
        "            print(f\"Withdrawn: {amount}\")\n",
        "\n",
        "    def get_balance(self):\n",
        "        return self.__balance\n",
        "\n",
        "    def get_account_number(self):\n",
        "        return self.__account_number\n",
        "\n",
        "\n",
        "account = BankAccount(\"123456789\", 1000)\n",
        "account.deposit(500)\n",
        "account.withdraw(300)\n",
        "account.withdraw(2000)\n",
        "\n",
        "print(f\"Current Balance: {account.get_balance()}\")\n",
        "print(f\"Account Number: {account.get_account_number()}\")\n"
      ],
      "metadata": {
        "colab": {
          "base_uri": "https://localhost:8080/"
        },
        "id": "WBZdZGYZnecX",
        "outputId": "f5777221-5803-4eb8-d8b7-d2634f02eaf0"
      },
      "execution_count": 10,
      "outputs": [
        {
          "output_type": "stream",
          "name": "stdout",
          "text": [
            "Deposited: 500\n",
            "Withdrawn: 300\n",
            "Insufficient balance!\n",
            "Current Balance: 1200\n",
            "Account Number: 123456789\n"
          ]
        }
      ]
    },
    {
      "cell_type": "markdown",
      "source": [
        "Question 11.  Write a class that overrides the `__str__` and `__add__` magic methods. What will these methods allow\n",
        "you to do?\n",
        "\n",
        "Ans:  Here's a class that overrides the __str__ and __add__ magic methods. These methods allow customizing the behavior of object string representation and addition, respectively.\n"
      ],
      "metadata": {
        "id": "aMr-VKOpoajb"
      }
    },
    {
      "cell_type": "code",
      "source": [
        "class CustomNumber:\n",
        "    def __init__(self, value):\n",
        "        self.value = value\n",
        "\n",
        "    def __str__(self):\n",
        "        return f\"CustomNumber({self.value})\"\n",
        "\n",
        "    def __add__(self, other):\n",
        "        if isinstance(other, CustomNumber):\n",
        "            return CustomNumber(self.value + other.value)\n",
        "        elif isinstance(other, (int, float)):\n",
        "            return CustomNumber(self.value + other)\n",
        "        else:\n",
        "            raise TypeError(\"Unsupported operand type for +\")\n",
        "\n",
        "num1 = CustomNumber(10)\n",
        "num2 = CustomNumber(20)\n",
        "\n",
        "print(num1)\n",
        "\n",
        "result = num1 + num2\n",
        "print(result)\n",
        "\n",
        "result2 = num1 + 5\n",
        "print(result2)\n",
        "\n",
        "try:\n",
        "    result3 = num1 + \"string\"\n",
        "except TypeError as e:\n",
        "    print(e)\n"
      ],
      "metadata": {
        "colab": {
          "base_uri": "https://localhost:8080/"
        },
        "id": "FIEWQKy9o0lX",
        "outputId": "36f5f137-f341-4128-dbb9-c8b750982912"
      },
      "execution_count": 11,
      "outputs": [
        {
          "output_type": "stream",
          "name": "stdout",
          "text": [
            "CustomNumber(10)\n",
            "CustomNumber(30)\n",
            "CustomNumber(15)\n",
            "Unsupported operand type for +\n"
          ]
        }
      ]
    },
    {
      "cell_type": "markdown",
      "source": [
        "What These Methods Allow You to Do:-\n",
        "1.  __str__:\n",
        "\n",
        "Customizes how the object is represented as a string.\n",
        "\n",
        "When you call print(obj) or str(obj), the __str__ method is invoked, providing a human-readable description of the object.\n",
        "2. __add__:\n",
        "\n",
        "Defines how objects of the class should behave when using the + operator.\n",
        "\n",
        "In this example:\n",
        "\n",
        "Two CustomNumber objects can be added to produce a new CustomNumber object with their values summed.\n",
        "A CustomNumber object can also be added to a numeric type (like int or float)."
      ],
      "metadata": {
        "id": "PzlZ0a__puxv"
      }
    },
    {
      "cell_type": "markdown",
      "source": [
        "Question 12.   Create a decorator that measures and prints the execution time of a function."
      ],
      "metadata": {
        "id": "aw1IRzetqRZ5"
      }
    },
    {
      "cell_type": "code",
      "source": [
        "import time\n",
        "\n",
        "def execution_time_decorator(func):\n",
        "    def wrapper(*args, **kwargs):\n",
        "        start_time = time.time()\n",
        "        result = func(*args, **kwargs)\n",
        "        end_time = time.time()\n",
        "        print(f\"Execution time for {func.__name__}: {end_time - start_time:.6f} seconds\")\n",
        "        return result\n",
        "    return wrapper\n",
        "\n",
        "@execution_time_decorator\n",
        "def slow_function():\n",
        "    time.sleep(2)\n",
        "    print(\"Function finished!\")\n",
        "\n",
        "@execution_time_decorator\n",
        "def add_numbers(a, b):\n",
        "    return a + b\n",
        "\n",
        "slow_function()\n",
        "result = add_numbers(10, 20)\n",
        "print(f\"Result of addition: {result}\")\n"
      ],
      "metadata": {
        "colab": {
          "base_uri": "https://localhost:8080/"
        },
        "id": "a_qxrBOGqimQ",
        "outputId": "b290723c-c25a-44b8-db36-b663715e59c3"
      },
      "execution_count": 12,
      "outputs": [
        {
          "output_type": "stream",
          "name": "stdout",
          "text": [
            "Function finished!\n",
            "Execution time for slow_function: 2.002292 seconds\n",
            "Execution time for add_numbers: 0.000001 seconds\n",
            "Result of addition: 30\n"
          ]
        }
      ]
    },
    {
      "cell_type": "markdown",
      "source": [
        "Question 13.  Explain the concept of the Diamond Problem in multiple inheritance. How does Python resolve it?\n",
        "\n",
        "Ans:  The Diamond Problem occurs in languages that support multiple inheritance when a class inherits from two classes that share a common base class. This creates an inheritance structure resembling a diamond shape:"
      ],
      "metadata": {
        "id": "2pXJJCKnrCZu"
      }
    },
    {
      "cell_type": "code",
      "source": [
        "       A\n",
        "      / \\\n",
        "     B   C\n",
        "      \\ /\n",
        "       D\n"
      ],
      "metadata": {
        "id": "vNXShXLdrmCz"
      },
      "execution_count": null,
      "outputs": []
    },
    {
      "cell_type": "markdown",
      "source": [
        "In this structure:\n",
        "\n",
        "Class D inherits from both B and C.\n",
        "\n",
        "Classes B and C inherit from the common base class A.\n",
        "\n",
        "The ambiguity arises because D might inherit the attributes or methods of A through both B and C. If A has a method that is overridden in B or C, Python needs to determine which version of the method to use.\n",
        "\n",
        "How Python Resolves the Diamond Problem:-\n",
        "\n",
        "Python uses the C3 Linearization Algorithm (or C3 MRO) to resolve the Diamond Problem. The Method Resolution Order (MRO) ensures that:\n",
        "\n",
        "1. A class appears in the MRO only once.\n",
        "\n",
        "2. The order of the MRO respects the inheritance hierarchy and left-to-right order of the parent classes.\n",
        "\n",
        "Python's super() function works according to the MRO, ensuring that methods are called in the correct order.\n",
        "\n"
      ],
      "metadata": {
        "id": "j-aYOxyqrr0k"
      }
    },
    {
      "cell_type": "code",
      "source": [
        "class A:\n",
        "    def method(self):\n",
        "        print(\"Method in A\")\n",
        "\n",
        "class B(A):\n",
        "    def method(self):\n",
        "        print(\"Method in B\")\n",
        "\n",
        "class C(A):\n",
        "    def method(self):\n",
        "        print(\"Method in C\")\n",
        "\n",
        "class D(B, C):\n",
        "    pass\n",
        "\n",
        "d = D()\n",
        "d.method()\n",
        "\n",
        "print(D.__mro__)\n"
      ],
      "metadata": {
        "colab": {
          "base_uri": "https://localhost:8080/"
        },
        "id": "ArBAxuUgsdGz",
        "outputId": "facf55cf-e33b-450e-bf9d-37f261a737ef"
      },
      "execution_count": 13,
      "outputs": [
        {
          "output_type": "stream",
          "name": "stdout",
          "text": [
            "Method in B\n",
            "(<class '__main__.D'>, <class '__main__.B'>, <class '__main__.C'>, <class '__main__.A'>, <class 'object'>)\n"
          ]
        }
      ]
    },
    {
      "cell_type": "markdown",
      "source": [
        "Question14.   Write a class method that keeps track of the number of instances created from a class.\n",
        "\n",
        "Ans:  Here’s a Python class that uses a class method to keep track of the number of instances created:"
      ],
      "metadata": {
        "id": "gOLKYQ1Aspg7"
      }
    },
    {
      "cell_type": "code",
      "source": [
        "class InstanceCounter:\n",
        "    instance_count = 0\n",
        "\n",
        "    def __init__(self):\n",
        "        InstanceCounter.instance_count += 1\n",
        "\n",
        "    @classmethod\n",
        "    def get_instance_count(cls):\n",
        "        return cls.instance_count\n",
        "\n",
        "obj1 = InstanceCounter()\n",
        "obj2 = InstanceCounter()\n",
        "obj3 = InstanceCounter()\n",
        "\n",
        "print(f\"Instances created: {InstanceCounter.get_instance_count()}\")"
      ],
      "metadata": {
        "colab": {
          "base_uri": "https://localhost:8080/"
        },
        "id": "luOznDqhtAeC",
        "outputId": "dc4d5717-4b07-4a4c-ef08-b9ba6c88e7b3"
      },
      "execution_count": 14,
      "outputs": [
        {
          "output_type": "stream",
          "name": "stdout",
          "text": [
            "Instances created: 3\n"
          ]
        }
      ]
    },
    {
      "cell_type": "markdown",
      "source": [
        "Question 15.  Implement a static method in a class that checks if a given year is a leap year."
      ],
      "metadata": {
        "id": "KJuixBeDtZhL"
      }
    },
    {
      "cell_type": "code",
      "source": [
        "class YearUtils:\n",
        "    @staticmethod\n",
        "    def is_leap_year(year):\n",
        "        if (year % 4 == 0 and year % 100 != 0) or (year % 400 == 0):\n",
        "            return True\n",
        "        return False\n",
        "\n",
        "year = 2020\n",
        "if YearUtils.is_leap_year(year):\n",
        "    print(f\"{year} is a leap year.\")\n",
        "else:\n",
        "    print(f\"{year} is not a leap year.\")\n"
      ],
      "metadata": {
        "colab": {
          "base_uri": "https://localhost:8080/"
        },
        "id": "GOramRwCtuGV",
        "outputId": "f78f8e20-bdd9-4d1c-f9fb-524216805d23"
      },
      "execution_count": 18,
      "outputs": [
        {
          "output_type": "stream",
          "name": "stdout",
          "text": [
            "2020 is a leap year.\n"
          ]
        }
      ]
    }
  ]
}